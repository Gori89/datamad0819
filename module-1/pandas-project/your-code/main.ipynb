{
 "cells": [
  {
   "cell_type": "code",
   "execution_count": 1,
   "metadata": {},
   "outputs": [],
   "source": [
    "import pandas as pd\n",
    "import matplotlib.pyplot as plt\n",
    "import matplotlib.patches as mpatches\n",
    "from geopy.geocoders import Nominatim\n",
    "import time\n",
    "\n",
    "from tools.functions import findWords\n",
    "from tools.functions import countWord\n",
    "from tools.functions import categorizeText"
   ]
  },
  {
   "cell_type": "markdown",
   "metadata": {},
   "source": [
    "## Hipotesis: Las consecuencias del ataque de un tiburón son mayores cuando se le ha provocado\n",
    "\n",
    "### Información adicional: Por pais, ¿que zonas son mas propensas a tener ataques de tiburones?\n",
    "Distribución en el mapa de los ataquese por paises \n"
   ]
  },
  {
   "cell_type": "code",
   "execution_count": 2,
   "metadata": {},
   "outputs": [
    {
     "data": {
      "text/html": [
       "<div>\n",
       "<style scoped>\n",
       "    .dataframe tbody tr th:only-of-type {\n",
       "        vertical-align: middle;\n",
       "    }\n",
       "\n",
       "    .dataframe tbody tr th {\n",
       "        vertical-align: top;\n",
       "    }\n",
       "\n",
       "    .dataframe thead th {\n",
       "        text-align: right;\n",
       "    }\n",
       "</style>\n",
       "<table border=\"1\" class=\"dataframe\">\n",
       "  <thead>\n",
       "    <tr style=\"text-align: right;\">\n",
       "      <th></th>\n",
       "      <th>Case Number</th>\n",
       "      <th>Date</th>\n",
       "      <th>Year</th>\n",
       "      <th>Type</th>\n",
       "      <th>Country</th>\n",
       "      <th>Area</th>\n",
       "      <th>Location</th>\n",
       "      <th>Activity</th>\n",
       "      <th>Name</th>\n",
       "      <th>Sex</th>\n",
       "      <th>...</th>\n",
       "      <th>Species</th>\n",
       "      <th>Investigator or Source</th>\n",
       "      <th>pdf</th>\n",
       "      <th>href formula</th>\n",
       "      <th>href</th>\n",
       "      <th>Case Number.1</th>\n",
       "      <th>Case Number.2</th>\n",
       "      <th>original order</th>\n",
       "      <th>Unnamed: 22</th>\n",
       "      <th>Unnamed: 23</th>\n",
       "    </tr>\n",
       "  </thead>\n",
       "  <tbody>\n",
       "    <tr>\n",
       "      <th>0</th>\n",
       "      <td>2016.09.18.c</td>\n",
       "      <td>18-Sep-16</td>\n",
       "      <td>2016</td>\n",
       "      <td>Unprovoked</td>\n",
       "      <td>USA</td>\n",
       "      <td>Florida</td>\n",
       "      <td>New Smyrna Beach, Volusia County</td>\n",
       "      <td>Surfing</td>\n",
       "      <td>male</td>\n",
       "      <td>M</td>\n",
       "      <td>...</td>\n",
       "      <td>NaN</td>\n",
       "      <td>Orlando Sentinel, 9/19/2016</td>\n",
       "      <td>2016.09.18.c-NSB.pdf</td>\n",
       "      <td>http://sharkattackfile.net/spreadsheets/pdf_di...</td>\n",
       "      <td>http://sharkattackfile.net/spreadsheets/pdf_di...</td>\n",
       "      <td>2016.09.18.c</td>\n",
       "      <td>2016.09.18.c</td>\n",
       "      <td>5993</td>\n",
       "      <td>NaN</td>\n",
       "      <td>NaN</td>\n",
       "    </tr>\n",
       "    <tr>\n",
       "      <th>1</th>\n",
       "      <td>2016.09.18.b</td>\n",
       "      <td>18-Sep-16</td>\n",
       "      <td>2016</td>\n",
       "      <td>Unprovoked</td>\n",
       "      <td>USA</td>\n",
       "      <td>Florida</td>\n",
       "      <td>New Smyrna Beach, Volusia County</td>\n",
       "      <td>Surfing</td>\n",
       "      <td>Chucky Luciano</td>\n",
       "      <td>M</td>\n",
       "      <td>...</td>\n",
       "      <td>NaN</td>\n",
       "      <td>Orlando Sentinel, 9/19/2016</td>\n",
       "      <td>2016.09.18.b-Luciano.pdf</td>\n",
       "      <td>http://sharkattackfile.net/spreadsheets/pdf_di...</td>\n",
       "      <td>http://sharkattackfile.net/spreadsheets/pdf_di...</td>\n",
       "      <td>2016.09.18.b</td>\n",
       "      <td>2016.09.18.b</td>\n",
       "      <td>5992</td>\n",
       "      <td>NaN</td>\n",
       "      <td>NaN</td>\n",
       "    </tr>\n",
       "    <tr>\n",
       "      <th>2</th>\n",
       "      <td>2016.09.18.a</td>\n",
       "      <td>18-Sep-16</td>\n",
       "      <td>2016</td>\n",
       "      <td>Unprovoked</td>\n",
       "      <td>USA</td>\n",
       "      <td>Florida</td>\n",
       "      <td>New Smyrna Beach, Volusia County</td>\n",
       "      <td>Surfing</td>\n",
       "      <td>male</td>\n",
       "      <td>M</td>\n",
       "      <td>...</td>\n",
       "      <td>NaN</td>\n",
       "      <td>Orlando Sentinel, 9/19/2016</td>\n",
       "      <td>2016.09.18.a-NSB.pdf</td>\n",
       "      <td>http://sharkattackfile.net/spreadsheets/pdf_di...</td>\n",
       "      <td>http://sharkattackfile.net/spreadsheets/pdf_di...</td>\n",
       "      <td>2016.09.18.a</td>\n",
       "      <td>2016.09.18.a</td>\n",
       "      <td>5991</td>\n",
       "      <td>NaN</td>\n",
       "      <td>NaN</td>\n",
       "    </tr>\n",
       "    <tr>\n",
       "      <th>3</th>\n",
       "      <td>2016.09.17</td>\n",
       "      <td>17-Sep-16</td>\n",
       "      <td>2016</td>\n",
       "      <td>Unprovoked</td>\n",
       "      <td>AUSTRALIA</td>\n",
       "      <td>Victoria</td>\n",
       "      <td>Thirteenth Beach</td>\n",
       "      <td>Surfing</td>\n",
       "      <td>Rory Angiolella</td>\n",
       "      <td>M</td>\n",
       "      <td>...</td>\n",
       "      <td>NaN</td>\n",
       "      <td>The Age, 9/18/2016</td>\n",
       "      <td>2016.09.17-Angiolella.pdf</td>\n",
       "      <td>http://sharkattackfile.net/spreadsheets/pdf_di...</td>\n",
       "      <td>http://sharkattackfile.net/spreadsheets/pdf_di...</td>\n",
       "      <td>2016.09.17</td>\n",
       "      <td>2016.09.17</td>\n",
       "      <td>5990</td>\n",
       "      <td>NaN</td>\n",
       "      <td>NaN</td>\n",
       "    </tr>\n",
       "    <tr>\n",
       "      <th>4</th>\n",
       "      <td>2016.09.15</td>\n",
       "      <td>16-Sep-16</td>\n",
       "      <td>2016</td>\n",
       "      <td>Unprovoked</td>\n",
       "      <td>AUSTRALIA</td>\n",
       "      <td>Victoria</td>\n",
       "      <td>Bells Beach</td>\n",
       "      <td>Surfing</td>\n",
       "      <td>male</td>\n",
       "      <td>M</td>\n",
       "      <td>...</td>\n",
       "      <td>2 m shark</td>\n",
       "      <td>The Age, 9/16/2016</td>\n",
       "      <td>2016.09.16-BellsBeach.pdf</td>\n",
       "      <td>http://sharkattackfile.net/spreadsheets/pdf_di...</td>\n",
       "      <td>http://sharkattackfile.net/spreadsheets/pdf_di...</td>\n",
       "      <td>2016.09.16</td>\n",
       "      <td>2016.09.15</td>\n",
       "      <td>5989</td>\n",
       "      <td>NaN</td>\n",
       "      <td>NaN</td>\n",
       "    </tr>\n",
       "  </tbody>\n",
       "</table>\n",
       "<p>5 rows × 24 columns</p>\n",
       "</div>"
      ],
      "text/plain": [
       "    Case Number       Date  Year        Type    Country      Area  \\\n",
       "0  2016.09.18.c  18-Sep-16  2016  Unprovoked        USA   Florida   \n",
       "1  2016.09.18.b  18-Sep-16  2016  Unprovoked        USA   Florida   \n",
       "2  2016.09.18.a  18-Sep-16  2016  Unprovoked        USA   Florida   \n",
       "3    2016.09.17  17-Sep-16  2016  Unprovoked  AUSTRALIA  Victoria   \n",
       "4    2016.09.15  16-Sep-16  2016  Unprovoked  AUSTRALIA  Victoria   \n",
       "\n",
       "                           Location Activity             Name Sex   ...  \\\n",
       "0  New Smyrna Beach, Volusia County  Surfing             male    M  ...   \n",
       "1  New Smyrna Beach, Volusia County  Surfing   Chucky Luciano    M  ...   \n",
       "2  New Smyrna Beach, Volusia County  Surfing             male    M  ...   \n",
       "3                  Thirteenth Beach  Surfing  Rory Angiolella    M  ...   \n",
       "4                       Bells Beach  Surfing             male    M  ...   \n",
       "\n",
       "    Species        Investigator or Source                        pdf  \\\n",
       "0        NaN  Orlando Sentinel, 9/19/2016       2016.09.18.c-NSB.pdf   \n",
       "1        NaN  Orlando Sentinel, 9/19/2016   2016.09.18.b-Luciano.pdf   \n",
       "2        NaN  Orlando Sentinel, 9/19/2016       2016.09.18.a-NSB.pdf   \n",
       "3        NaN           The Age, 9/18/2016  2016.09.17-Angiolella.pdf   \n",
       "4  2 m shark           The Age, 9/16/2016  2016.09.16-BellsBeach.pdf   \n",
       "\n",
       "                                        href formula  \\\n",
       "0  http://sharkattackfile.net/spreadsheets/pdf_di...   \n",
       "1  http://sharkattackfile.net/spreadsheets/pdf_di...   \n",
       "2  http://sharkattackfile.net/spreadsheets/pdf_di...   \n",
       "3  http://sharkattackfile.net/spreadsheets/pdf_di...   \n",
       "4  http://sharkattackfile.net/spreadsheets/pdf_di...   \n",
       "\n",
       "                                                href Case Number.1  \\\n",
       "0  http://sharkattackfile.net/spreadsheets/pdf_di...  2016.09.18.c   \n",
       "1  http://sharkattackfile.net/spreadsheets/pdf_di...  2016.09.18.b   \n",
       "2  http://sharkattackfile.net/spreadsheets/pdf_di...  2016.09.18.a   \n",
       "3  http://sharkattackfile.net/spreadsheets/pdf_di...    2016.09.17   \n",
       "4  http://sharkattackfile.net/spreadsheets/pdf_di...    2016.09.16   \n",
       "\n",
       "  Case Number.2 original order Unnamed: 22 Unnamed: 23  \n",
       "0  2016.09.18.c           5993         NaN         NaN  \n",
       "1  2016.09.18.b           5992         NaN         NaN  \n",
       "2  2016.09.18.a           5991         NaN         NaN  \n",
       "3    2016.09.17           5990         NaN         NaN  \n",
       "4    2016.09.15           5989         NaN         NaN  \n",
       "\n",
       "[5 rows x 24 columns]"
      ]
     },
     "execution_count": 2,
     "metadata": {},
     "output_type": "execute_result"
    }
   ],
   "source": [
    "df_shark=pd.read_csv(\"input/GSAF5.csv\", encoding=\"windows-1250\")\n",
    "df_shark.head()"
   ]
  },
  {
   "cell_type": "code",
   "execution_count": 3,
   "metadata": {},
   "outputs": [
    {
     "data": {
      "text/plain": [
       "(5992, 24)"
      ]
     },
     "execution_count": 3,
     "metadata": {},
     "output_type": "execute_result"
    }
   ],
   "source": [
    "df_shark.shape"
   ]
  },
  {
   "cell_type": "code",
   "execution_count": 4,
   "metadata": {},
   "outputs": [
    {
     "data": {
      "text/plain": [
       "Case Number                  0\n",
       "Date                         0\n",
       "Year                         0\n",
       "Type                         0\n",
       "Country                     43\n",
       "Area                       402\n",
       "Location                   496\n",
       "Activity                   527\n",
       "Name                       200\n",
       "Sex                        567\n",
       "Age                       2681\n",
       "Injury                      27\n",
       "Fatal (Y/N)                 19\n",
       "Time                      3213\n",
       "Species                   2934\n",
       "Investigator or Source      15\n",
       "pdf                          0\n",
       "href formula                 1\n",
       "href                         3\n",
       "Case Number.1                0\n",
       "Case Number.2                0\n",
       "original order               0\n",
       "Unnamed: 22               5991\n",
       "Unnamed: 23               5990\n",
       "dtype: int64"
      ]
     },
     "execution_count": 4,
     "metadata": {},
     "output_type": "execute_result"
    }
   ],
   "source": [
    "df_shark.isnull().sum()"
   ]
  },
  {
   "cell_type": "code",
   "execution_count": 5,
   "metadata": {},
   "outputs": [
    {
     "data": {
      "text/plain": [
       "stopped here    1\n",
       "Name: Unnamed: 22, dtype: int64"
      ]
     },
     "execution_count": 5,
     "metadata": {},
     "output_type": "execute_result"
    }
   ],
   "source": [
    "df_shark[\"Unnamed: 22\"].value_counts()"
   ]
  },
  {
   "cell_type": "code",
   "execution_count": 6,
   "metadata": {},
   "outputs": [
    {
     "data": {
      "text/plain": [
       "Teramo             1\n",
       "change filename    1\n",
       "Name: Unnamed: 23, dtype: int64"
      ]
     },
     "execution_count": 6,
     "metadata": {},
     "output_type": "execute_result"
    }
   ],
   "source": [
    "df_shark[\"Unnamed: 23\"].value_counts()"
   ]
  },
  {
   "cell_type": "markdown",
   "metadata": {},
   "source": [
    "### Se eliminan las columnas \"Unnamed: 22\" y \"Unnamed: 23\" por: \n",
    "1. tener solo una y dos filas rellenas repectivamente y \n",
    "\n",
    "2. imposibilidad de conocer el significado de estos datos (Los nombres de la columna no son explicativos)"
   ]
  },
  {
   "cell_type": "code",
   "execution_count": 7,
   "metadata": {},
   "outputs": [
    {
     "name": "stdout",
     "output_type": "stream",
     "text": [
      "Index(['Case Number', 'Date', 'Year', 'Type', 'Country', 'Area', 'Location',\n",
      "       'Activity', 'Name', 'Sex ', 'Age', 'Injury', 'Fatal (Y/N)', 'Time',\n",
      "       'Species ', 'Investigator or Source', 'pdf', 'href formula', 'href',\n",
      "       'Case Number.1', 'Case Number.2', 'original order'],\n",
      "      dtype='object')\n"
     ]
    }
   ],
   "source": [
    "df_shark=df_shark.drop(columns=['Unnamed: 22', 'Unnamed: 23'])\n",
    "print(df_shark.columns)"
   ]
  },
  {
   "cell_type": "markdown",
   "metadata": {},
   "source": [
    "# Se corrige ennombre de las colmnas \"Sex\" y \"Species\" quitandoles el espacio del final.\n"
   ]
  },
  {
   "cell_type": "code",
   "execution_count": 8,
   "metadata": {},
   "outputs": [
    {
     "data": {
      "text/plain": [
       "Index(['Case Number', 'Date', 'Year', 'Type', 'Country', 'Area', 'Location',\n",
       "       'Activity', 'Name', 'Sex', 'Age', 'Injury', 'Fatal', 'Time', 'Species',\n",
       "       'Investigator or Source', 'pdf', 'href formula', 'href',\n",
       "       'Case Number.1', 'Case Number.2', 'original order'],\n",
       "      dtype='object')"
      ]
     },
     "execution_count": 8,
     "metadata": {},
     "output_type": "execute_result"
    }
   ],
   "source": [
    "\n",
    "\n",
    "df_shark=df_shark.rename(columns={'Sex ':'Sex','Species ':'Species', 'Fatal (Y/N)':'Fatal'})\n",
    "df_shark.columns"
   ]
  },
  {
   "cell_type": "markdown",
   "metadata": {},
   "source": [
    "# Se corrigen los valores de campo \"Sex\"\n",
    "\n",
    "Se dejan solo los valores M (male), F (female), U (unknown)\n"
   ]
  },
  {
   "cell_type": "code",
   "execution_count": 9,
   "metadata": {},
   "outputs": [
    {
     "data": {
      "text/plain": [
       "M      4835\n",
       "F       585\n",
       "M         2\n",
       ".         1\n",
       "N         1\n",
       "lli       1\n",
       "Name: Sex, dtype: int64"
      ]
     },
     "execution_count": 9,
     "metadata": {},
     "output_type": "execute_result"
    }
   ],
   "source": [
    "df_shark[\"Sex\"].value_counts()"
   ]
  },
  {
   "cell_type": "code",
   "execution_count": 10,
   "metadata": {},
   "outputs": [
    {
     "data": {
      "text/plain": [
       "M    4837\n",
       "F     585\n",
       "U     570\n",
       "Name: Sex, dtype: int64"
      ]
     },
     "execution_count": 10,
     "metadata": {},
     "output_type": "execute_result"
    }
   ],
   "source": [
    "unknow_sex=df_shark[\"Sex\"].isnull()\n",
    "wrong_sex=df_shark[\"Sex\"].isin(['N','lli',\".\"])\n",
    "\n",
    "df_shark.loc[unknow_sex | wrong_sex,\"Sex\"]=\"U\"\n",
    "df_shark.loc[df_shark[\"Sex\"]==\"M \",\"Sex\"]=\"M\"\n",
    "df_shark[\"Sex\"].value_counts()\n",
    "\n"
   ]
  },
  {
   "cell_type": "markdown",
   "metadata": {},
   "source": [
    "# Se corrigen los valores de campo \"Fatal\""
   ]
  },
  {
   "cell_type": "code",
   "execution_count": 11,
   "metadata": {},
   "outputs": [
    {
     "data": {
      "text/plain": [
       "N          4315\n",
       "Y          1552\n",
       "UNKNOWN      94\n",
       " N            8\n",
       "n             1\n",
       "N             1\n",
       "#VALUE!       1\n",
       "F             1\n",
       "Name: Fatal, dtype: int64"
      ]
     },
     "execution_count": 11,
     "metadata": {},
     "output_type": "execute_result"
    }
   ],
   "source": [
    "df_shark[\"Fatal\"].value_counts()"
   ]
  },
  {
   "cell_type": "code",
   "execution_count": 12,
   "metadata": {},
   "outputs": [
    {
     "data": {
      "text/plain": [
       "['N', 'Y', 'UNKNOWN', ' N', 'n', 'N ', '#VALUE!', 'F']"
      ]
     },
     "execution_count": 12,
     "metadata": {},
     "output_type": "execute_result"
    }
   ],
   "source": [
    "list(df_shark.Fatal.value_counts().index)"
   ]
  },
  {
   "cell_type": "code",
   "execution_count": 13,
   "metadata": {},
   "outputs": [
    {
     "data": {
      "text/plain": [
       "N    4326\n",
       "Y    1552\n",
       "U     114\n",
       "Name: Fatal, dtype: int64"
      ]
     },
     "execution_count": 13,
     "metadata": {},
     "output_type": "execute_result"
    }
   ],
   "source": [
    "unknow_fatal=df_shark[\"Fatal\"].isnull()\n",
    "wrong_fatal=df_shark[\"Fatal\"].isin(['UNKNOWN','#VALUE!'])\n",
    "\n",
    "df_shark.loc[unknow_fatal | wrong_fatal,\"Fatal\"]=\"U\"\n",
    "df_shark.loc[df_shark[\"Fatal\"].isin([' N', 'n', 'N ', 'F']),\"Fatal\"]=\"N\"\n",
    "df_shark[\"Fatal\"].value_counts()"
   ]
  },
  {
   "cell_type": "code",
   "execution_count": null,
   "metadata": {},
   "outputs": [],
   "source": []
  },
  {
   "cell_type": "code",
   "execution_count": null,
   "metadata": {},
   "outputs": [],
   "source": []
  },
  {
   "cell_type": "markdown",
   "metadata": {},
   "source": [
    "# Obtener nivel de daño\n",
    "A partir de la columna \"Injury\", se analiza las palabras mas frecuentes y su contexto habitual.\n",
    "Según la palabra, se indica un nivel de daño generado por el ataque\n",
    "El rango de daño va de 1 (No ha habido consecuencias) a 5 (Muerete)"
   ]
  },
  {
   "cell_type": "code",
   "execution_count": 14,
   "metadata": {},
   "outputs": [],
   "source": [
    "df_shark.loc[df_shark.Injury.isnull(),\"Injury\"]=\"U\""
   ]
  },
  {
   "cell_type": "markdown",
   "metadata": {},
   "source": [
    "### Se obtienen las palabras mas significativas"
   ]
  },
  {
   "cell_type": "code",
   "execution_count": 15,
   "metadata": {},
   "outputs": [
    {
     "name": "stdout",
     "output_type": "stream",
     "text": [
      "bitten: 1385\n",
      "fatal: 831\n",
      "right: 810\n",
      "left: 807\n",
      "foot: 715\n",
      "lacerations: 560\n",
      "provoked: 556\n",
      "incident: 549\n",
      "injury: 482\n",
      "lacerated: 440\n",
      "fatal,: 429\n",
      "hand: 395\n",
      "injury,: 374\n",
      "board: 257\n",
      "severed: 253\n",
      "calf: 246\n",
      "lacerati: 232\n",
      "ankle: 219\n",
      "minor: 212\n",
      "lower: 189\n",
      "puncture: 163\n",
      "wounds: 158\n",
      "fore: 157\n",
      "recovered: 139\n",
      "sharks: 139\n",
      "hooked: 138\n",
      "bitten,: 133\n",
      "knee: 133\n",
      "from: 130\n",
      "severely: 121\n",
      "injured: 118\n",
      "were: 118\n",
      "body: 115\n",
      "injuries: 103\n",
      "occupants,: 96\n",
      "legs: 95\n",
      "surgically: 88\n",
      "amputated: 88\n",
      "with: 86\n",
      "surf: 82\n",
      "shoulder: 76\n",
      "remain: 76\n",
      "drowning: 75\n",
      "when: 74\n",
      "severe: 71\n",
      "torso: 70\n",
      "heel: 69\n",
      "involvemen: 67\n",
      "taken: 67\n",
      "occupants: 62\n",
      "severed,: 61\n",
      "wrist: 61\n",
      "after: 61\n",
      "bumped: 60\n",
      "rammed: 56\n",
      "have: 55\n",
      "shark,: 54\n",
      "abdomen: 52\n",
      "swim: 52\n",
      "chest: 51\n",
      "been: 51\n",
      "water: 49\n",
      "back: 49\n",
      "detail: 48\n",
      "later: 48\n",
      "found: 47\n",
      "probab: 46\n",
      "bite: 45\n",
      "fingers: 45\n",
      "head: 44\n",
      "scavenging: 44\n",
      "punctures: 43\n",
      "struck: 42\n",
      "grabbed: 42\n",
      "finger: 42\n",
      "buttock: 41\n",
      "killed: 41\n",
      "speared: 40\n",
      "occupant,: 40\n",
      "lacerated,: 40\n",
      "elbow: 37\n",
      "tail: 37\n",
      "below: 37\n",
      "kayak: 36\n",
      "removed: 36\n",
      "diver: 36\n",
      "small: 36\n",
      "hands: 35\n",
      "damaged: 35\n",
      "prior: 35\n",
      "captive: 35\n",
      "died: 35\n",
      "above: 35\n",
      "multiple: 34\n",
      "caugh: 34\n",
      "abrasions: 33\n",
      "shark's: 33\n",
      "upper: 33\n",
      "boat,: 32\n",
      "netted: 32\n",
      "face: 31\n",
      "bites: 31\n",
      "marks: 30\n",
      "leapt: 30\n",
      "arms: 30\n",
      "abraded: 30\n",
      "thigh,: 29\n",
      "cuts: 29\n",
      "knocked: 27\n",
      "wound: 27\n",
      "mortem: 27\n",
      "drowned: 27\n",
      "dorsum: 25\n",
      "appeared: 25\n",
      "leg,: 24\n",
      "unconfirmed: 24\n",
      "confirmed: 24\n",
      "holed: 24\n",
      "occupants;: 24\n",
      "presumed: 24\n",
      "broken: 23\n",
      "bruised: 23\n",
      "tooth: 23\n",
      "took: 23\n",
      "wetsuit: 22\n",
      "attack: 22\n",
      "surviv: 22\n",
      "bodies: 21\n",
      "torn: 21\n",
      "though: 21\n",
      "some: 21\n",
      "ashore: 21\n",
      "disappeared,: 21\n",
      "shark: 20\n",
      "toes: 20\n",
      "rescued: 20\n",
      "injury.: 19\n",
      "foot,: 19\n",
      "reported: 19\n",
      "scavenged: 19\n",
      "nipped: 18\n",
      "over: 18\n",
      "neck: 18\n",
      "abrasi: 18\n",
      "hand,: 18\n",
      "thre: 18\n",
      "ripped: 18\n",
      "thigh: 17\n",
      "rudder: 17\n",
      "thumb: 17\n",
      "large: 17\n",
      "tore: 17\n",
      "washed: 17\n",
      "harpoo: 17\n",
      "hull: 16\n",
      "attack,: 16\n",
      "only: 16\n",
      "they: 16\n",
      "hour: 16\n",
      "pulled: 16\n",
      "time: 16\n",
      "ster: 16\n",
      "their: 15\n",
      "speargun: 15\n",
      "calf,: 15\n",
      "sole: 15\n",
      "recovered,: 15\n",
      "canoe: 15\n",
      "ring: 15\n",
      "post-: 15\n",
      "several: 15\n",
      "display: 15\n",
      "artery: 15\n",
      "shark’: 15\n",
      "tissue: 15\n",
      "sharks,: 15\n",
      "motor: 14\n",
      "punctured: 14\n",
      "landed: 14\n",
      "superficial: 14\n",
      "knee,: 14\n",
      "survived: 14\n",
      "cause: 14\n",
      "tiger: 14\n",
      "attacked: 14\n",
      "dinghy: 14\n",
      "bitte: 14\n",
      "shark/s: 13\n",
      "away: 13\n",
      "towed: 13\n",
      "recor: 13\n",
      "posterior: 12\n",
      "fell: 12\n",
      "defense: 12\n",
      "board,: 12\n",
      "propeller: 12\n",
      "partial: 12\n",
      "shoulder,: 12\n",
      "femur: 12\n",
      "arm,: 12\n",
      "collided: 11\n",
      "repeatedly: 11\n",
      "spear: 11\n",
      "bruises: 11\n",
      "deep: 11\n",
      "stepped: 11\n",
      "paddle: 11\n",
      "missing: 11\n",
      "lifted: 11\n",
      "fishing: 11\n",
      "passenger: 11\n",
      "piece: 11\n",
      "dragged: 11\n",
      "nearly: 11\n",
      "gashed: 11\n",
      "back,: 10\n",
      "possibly: 10\n",
      "hip,: 10\n",
      "gaffed: 10\n",
      "white: 10\n",
      "charged: 10\n",
      "2-inc: 10\n",
      "week: 10\n",
      "said: 10\n",
      "minute: 10\n",
      "perished: 10\n",
      "femor: 10\n",
      "divi: 10\n",
      "hosp: 10\n",
      "seize: 10\n"
     ]
    }
   ],
   "source": [
    "Injury_words=countWord(list(df_shark.Injury),3,10)\n",
    "\n",
    "\n",
    "\n",
    "for key, value in sorted(Injury_words.items(), key=lambda item: item[1],reverse=True):\n",
    "    print(\"%s: %s\" % (key, value))"
   ]
  },
  {
   "cell_type": "code",
   "execution_count": 16,
   "metadata": {},
   "outputs": [],
   "source": [
    "### Se asocia un nivel de daño a cada palabra"
   ]
  },
  {
   "cell_type": "code",
   "execution_count": 41,
   "metadata": {},
   "outputs": [],
   "source": [
    "damamage_levels={3:[\"drow\",\"fatal\",\"mput\",\"sever\"],2:[\"bite\",\"bitten\",\"injur\"],1:[\"lacerat\",\"minor\",\"knock\",\"incident\",\"survived\"]}\n",
    "modificators=[\"no\", \"not\"]\n",
    "df_shark[\"damage_level\"]=df_shark.Injury.apply(categorizeText,args=[damamage_levels,modificators])"
   ]
  },
  {
   "cell_type": "code",
   "execution_count": 49,
   "metadata": {},
   "outputs": [],
   "source": [
    "df_shark.loc[df_shark.Injury.str.contains(\"no injur|No injur\"),\"damage_level\"]=1\n",
    "df_shark.loc[df_shark.Fatal==\"Y\",\"damage_level\"]=3"
   ]
  },
  {
   "cell_type": "code",
   "execution_count": null,
   "metadata": {},
   "outputs": [],
   "source": []
  },
  {
   "cell_type": "code",
   "execution_count": 50,
   "metadata": {},
   "outputs": [
    {
     "name": "stdout",
     "output_type": "stream",
     "text": [
      "puncture: 98\n",
      "shark: 94\n",
      "wounds: 83\n",
      "foot: 70\n",
      "right: 65\n",
      "left: 61\n",
      "details: 43\n",
      "thigh: 34\n",
      "bruised: 19\n",
      "ankle: 19\n",
      "boat: 19\n",
      "punctures: 19\n",
      "recovered: 19\n",
      "calf: 18\n",
      "abrasions: 18\n",
      "from: 16\n",
      "board: 15\n",
      "marks: 15\n",
      "wound: 15\n",
      "cuts: 13\n",
      "sharks: 13\n",
      "abraded: 13\n",
      "with: 12\n",
      "nipped: 12\n",
      "bumped: 12\n",
      "knee: 12\n",
      "chest: 11\n",
      "lower: 11\n",
      "when: 10\n",
      "fore: 10\n",
      "involvement: 10\n",
      "torn: 10\n",
      "human: 10\n",
      "injury: 10\n"
     ]
    }
   ],
   "source": [
    "\n",
    "Injury_words=countWord(list(df_shark.Injury[df_shark.damage_level==\"U\"]),3,10)\n",
    "\n",
    "for key, value in sorted(Injury_words.items(), key=lambda item: item[1],reverse=True):\n",
    "    print(\"%s: %s\" % (key, value))\n",
    "    "
   ]
  },
  {
   "cell_type": "markdown",
   "metadata": {},
   "source": [
    "### Utilizando los datos de la columna \"Type\" que nos indican las circunstancias en las que se produjo el ataque, se comparan las consecuencias de estos segun si el ataque  fue provocado o no.\n",
    "### Se incluyen los ataques indicados como \"Sea Disaster\" en el grupo de provocados entendiendo que el tiburón podría estar en estado de aletra por una situación anomala."
   ]
  },
  {
   "cell_type": "code",
   "execution_count": 51,
   "metadata": {},
   "outputs": [
    {
     "data": {
      "text/plain": [
       "Unprovoked      4386\n",
       "Provoked         557\n",
       "Invalid          519\n",
       "Sea Disaster     220\n",
       "Boat             200\n",
       "Boating          110\n",
       "Name: Type, dtype: int64"
      ]
     },
     "execution_count": 51,
     "metadata": {},
     "output_type": "execute_result"
    }
   ],
   "source": [
    "df_shark.Type.value_counts()"
   ]
  },
  {
   "cell_type": "code",
   "execution_count": 52,
   "metadata": {},
   "outputs": [],
   "source": [
    "filter_proked=df_shark.Type.isin([\"Provoked\", \"Sea Disaster\"])\n",
    "filter_unproked=df_shark.Type==\"Unprovoked\"\n",
    "filter_known=df_shark[\"damage_level\"]!=\"U\"\n",
    "\n",
    "provoked=df_shark.damage_level[filter_proked & filter_known].value_counts()\n",
    "unprovoked=df_shark.damage_level[filter_unproked & filter_known].value_counts()\n",
    "\n",
    "provoked=provoked/provoked.sum()\n",
    "unprovoked=unprovoked/unprovoked.sum()\n"
   ]
  },
  {
   "cell_type": "code",
   "execution_count": 53,
   "metadata": {},
   "outputs": [
    {
     "data": {
      "text/plain": [
       "<matplotlib.legend.Legend at 0x7f411c9233d0>"
      ]
     },
     "execution_count": 53,
     "metadata": {},
     "output_type": "execute_result"
    },
    {
     "data": {
      "image/png": "[encoded data removed]",
      "text/plain": [
       "<Figure size 432x288 with 1 Axes>"
      ]
     },
     "metadata": {
      "needs_background": "light"
     },
     "output_type": "display_data"
    }
   ],
   "source": [
    "plt.plot([1,2,3],provoked.sort_index(),color='red')\n",
    "plt.plot([1,2,3],unprovoked.sort_index(),color='blue' )\n",
    "red_patch = mpatches.Patch(color='red', label=\"Provoked\")\n",
    "blue_patch = mpatches.Patch(color='blue', label=\"Unprovoked\")\n",
    "plt.legend(handles=[red_patch,blue_patch])\n"
   ]
  },
  {
   "cell_type": "markdown",
   "metadata": {},
   "source": [
    "### Viendo esta gráfica, se concluye que provocar al tiburón no aumenta la probabilidad de sufrir un ataque mortal. EL echo de estar atento a las acciones del tiburón permite reducir el daño.\n",
    "### Si el ataque no es previsto las consecuencias del ataque tienden a ser mayores\n",
    "\n"
   ]
  },
  {
   "cell_type": "code",
   "execution_count": null,
   "metadata": {},
   "outputs": [],
   "source": []
  },
  {
   "cell_type": "markdown",
   "metadata": {},
   "source": [
    "### Se analizan las cosecuencias de los ataques por paises.\n",
    "Se toman los paises 10 con mas ataques"
   ]
  },
  {
   "cell_type": "code",
   "execution_count": 23,
   "metadata": {},
   "outputs": [
    {
     "data": {
      "text/plain": [
       "Index(['USA', 'AUSTRALIA', 'SOUTH AFRICA', 'PAPUA NEW GUINEA', 'NEW ZEALAND',\n",
       "       'BRAZIL', 'BAHAMAS', 'MEXICO', 'ITALY', 'FIJI',\n",
       "       ...\n",
       "       'GUATEMALA', 'KUWAIT', 'GHANA', 'MID-PACIFC OCEAN', 'GULF OF ADEN',\n",
       "       'NEVIS', 'Sierra Leone', 'ANTIGUA', 'ST. MARTIN',\n",
       "       'BRITISH VIRGIN ISLANDS'],\n",
       "      dtype='object', length=203)"
      ]
     },
     "execution_count": 23,
     "metadata": {},
     "output_type": "execute_result"
    }
   ],
   "source": [
    "df_shark.Country.value_counts().index"
   ]
  },
  {
   "cell_type": "code",
   "execution_count": 24,
   "metadata": {},
   "outputs": [
    {
     "data": {
      "text/plain": [
       "[2.901776384535005,\n",
       " 3.024137931034483,\n",
       " 3.024904214559387,\n",
       " 3.811023622047244,\n",
       " 2.8620689655172415,\n",
       " 3.787878787878788,\n",
       " 3.152173913043478,\n",
       " 4.113924050632911,\n",
       " 2.774193548387097,\n",
       " 3.603448275862069]"
      ]
     },
     "execution_count": 24,
     "metadata": {},
     "output_type": "execute_result"
    }
   ],
   "source": [
    "countrys=['USA', 'AUSTRALIA', 'SOUTH AFRICA', 'PAPUA NEW GUINEA', 'NEW ZEALAND','BRAZIL', 'BAHAMAS', 'MEXICO', 'ITALY', 'FIJI']\n",
    "values=[]\n",
    "for country in countrys:\n",
    "    filter_country=df_shark.Country.isin([country])\n",
    "    filter_known=df_shark[\"damage_level\"]!=\"U\"\n",
    "    values.append(df_shark.damage_level[filter_country & filter_known].mean())\n",
    "values"
   ]
  },
  {
   "cell_type": "code",
   "execution_count": 25,
   "metadata": {},
   "outputs": [
    {
     "data": {
      "image/png": "[encoded data removed]",
      "text/plain": [
       "<Figure size 432x288 with 1 Axes>"
      ]
     },
     "metadata": {
      "needs_background": "light"
     },
     "output_type": "display_data"
    }
   ],
   "source": [
    "df = pd.DataFrame({'lab':countrys, 'val':values})\n",
    "ax = df.plot.bar(x='lab', y='val', rot=45)"
   ]
  },
  {
   "cell_type": "markdown",
   "metadata": {},
   "source": [
    "### En general, los ataque tiene las mismas nivel de consecuencias en todo los paises"
   ]
  },
  {
   "cell_type": "code",
   "execution_count": null,
   "metadata": {},
   "outputs": [],
   "source": []
  },
  {
   "cell_type": "code",
   "execution_count": null,
   "metadata": {},
   "outputs": [],
   "source": []
  },
  {
   "cell_type": "code",
   "execution_count": null,
   "metadata": {},
   "outputs": [],
   "source": []
  },
  {
   "cell_type": "markdown",
   "metadata": {},
   "source": [
    "## Distribución de ataques en cada pais\n",
    "_(No esta terminado)_"
   ]
  },
  {
   "cell_type": "code",
   "execution_count": 26,
   "metadata": {},
   "outputs": [],
   "source": [
    "#list(df_shark.Country.value_counts().index)\n"
   ]
  },
  {
   "cell_type": "code",
   "execution_count": 27,
   "metadata": {},
   "outputs": [
    {
     "data": {
      "text/plain": [
       "Location(Arenales del Sol, Els Arenals del Sol, Elx / Elche, el Baix Vinalopó, Alacant / Alicante, Comunitat Valenciana, España, (38.2511969, -0.520129111489151, 0.0))"
      ]
     },
     "execution_count": 27,
     "metadata": {},
     "output_type": "execute_result"
    }
   ],
   "source": [
    "\n",
    "df_shark.loc[df_shark.Location.isnull(),\"Location\"]=\"U\"\n",
    "from geopy.geocoders import Nominatim\n",
    "geolocator = Nominatim(user_agent=\"SharkAttack\")\n",
    "location = geolocator.geocode(\"Arenales del Sol\")\n",
    "location\n",
    "\n"
   ]
  },
  {
   "cell_type": "code",
   "execution_count": 28,
   "metadata": {},
   "outputs": [],
   "source": [
    "lugares=list(df_shark.Location[df_shark.Country==\"SPAIN\"])"
   ]
  },
  {
   "cell_type": "code",
   "execution_count": 29,
   "metadata": {},
   "outputs": [],
   "source": [
    "from geopy.geocoders import Nominatim\n",
    "geolocator = Nominatim(user_agent=\"SharkAttack\")\n",
    "geo_coord=[]\n",
    "for lugar in lugares:\n",
    "        geo_coord.append(geolocator.geocode(lugar))\n",
    "        time.sleep(1.5)\n",
    "    "
   ]
  },
  {
   "cell_type": "code",
   "execution_count": 30,
   "metadata": {},
   "outputs": [
    {
     "data": {
      "text/plain": [
       "Location(Playa de Poniente, Avinguda de Vicent Llorca Alós, La Cala, Benidorm, la Marina Baixa, Alacant / Alicante, Comunitat Valenciana, 03502, España, (38.5321187, -0.157783476809866, 0.0))"
      ]
     },
     "execution_count": 30,
     "metadata": {},
     "output_type": "execute_result"
    }
   ],
   "source": [
    "\n",
    "\n",
    "geo_coord[3]"
   ]
  },
  {
   "cell_type": "code",
   "execution_count": 31,
   "metadata": {},
   "outputs": [
    {
     "name": "stdout",
     "output_type": "stream",
     "text": [
      "error pillado\n",
      "error pillado\n",
      "error pillado\n",
      "error pillado\n",
      "error pillado\n"
     ]
    }
   ],
   "source": [
    "longitude=list()\n",
    "latitude=list()\n",
    "\n",
    "for place in geo_coord:\n",
    "    try:\n",
    "        longitude.append(place[-1][0])\n",
    "        latitude.append(place[-1][1])\n",
    "    except:\n",
    "        print(\"error pillado\")"
   ]
  },
  {
   "cell_type": "code",
   "execution_count": 32,
   "metadata": {},
   "outputs": [
    {
     "data": {
      "image/png": "[encoded data removed]",
      "text/plain": [
       "<Figure size 432x288 with 1 Axes>"
      ]
     },
     "metadata": {
      "needs_background": "light"
     },
     "output_type": "display_data"
    }
   ],
   "source": [
    "\n",
    "plt.scatter( x=longitude, y=latitude, alpha=0.4)\n",
    "plt.show()"
   ]
  },
  {
   "cell_type": "code",
   "execution_count": 33,
   "metadata": {},
   "outputs": [
    {
     "ename": "ModuleNotFoundError",
     "evalue": "No module named 'mpl_toolkits.basemap'",
     "output_type": "error",
     "traceback": [
      "\u001b[0;31m---------------------------------------------------------------------------\u001b[0m",
      "\u001b[0;31mModuleNotFoundError\u001b[0m                       Traceback (most recent call last)",
      "\u001b[0;32m<ipython-input-33-d1923eb7aaff>\u001b[0m in \u001b[0;36m<module>\u001b[0;34m\u001b[0m\n\u001b[0;32m----> 1\u001b[0;31m \u001b[0;32mfrom\u001b[0m \u001b[0mmpl_toolkits\u001b[0m\u001b[0;34m.\u001b[0m\u001b[0mbasemap\u001b[0m \u001b[0;32mimport\u001b[0m \u001b[0mBasemap\u001b[0m\u001b[0;34m\u001b[0m\u001b[0;34m\u001b[0m\u001b[0m\n\u001b[0m\u001b[1;32m      2\u001b[0m \u001b[0;32mimport\u001b[0m \u001b[0mmatplotlib\u001b[0m\u001b[0;34m.\u001b[0m\u001b[0mpyplot\u001b[0m \u001b[0;32mas\u001b[0m \u001b[0mplt\u001b[0m\u001b[0;34m\u001b[0m\u001b[0;34m\u001b[0m\u001b[0m\n\u001b[1;32m      3\u001b[0m \u001b[0;34m\u001b[0m\u001b[0m\n\u001b[1;32m      4\u001b[0m \u001b[0;31m# Coordendas de Tenerife, en grados\u001b[0m\u001b[0;34m\u001b[0m\u001b[0;34m\u001b[0m\u001b[0;34m\u001b[0m\u001b[0m\n\u001b[1;32m      5\u001b[0m \u001b[0mlat\u001b[0m\u001b[0;34m,\u001b[0m \u001b[0mlon\u001b[0m \u001b[0;34m=\u001b[0m \u001b[0;36m28.2419\u001b[0m\u001b[0;34m,\u001b[0m \u001b[0;34m-\u001b[0m\u001b[0;36m16.5937\u001b[0m\u001b[0;34m\u001b[0m\u001b[0;34m\u001b[0m\u001b[0m\n",
      "\u001b[0;31mModuleNotFoundError\u001b[0m: No module named 'mpl_toolkits.basemap'"
     ]
    }
   ],
   "source": [
    "from mpl_toolkits.basemap import Basemap\n",
    "import matplotlib.pyplot as plt\n",
    "\n",
    "# Coordendas de Tenerife, en grados\n",
    "lat, lon = 28.2419, -16.5937\n",
    "\n",
    "# Mapa en alta resolución (h) con proyección mercator\n",
    "map = Basemap(projection='merc', lat_0 = lat, lon_0 = lon,\n",
    "    resolution = 'h', area_thresh = 0.1,\n",
    "    llcrnrlon=lon-0.5, llcrnrlat=lat-0.5,\n",
    "    urcrnrlon=lon+0.5, urcrnrlat=lat+0.5)\n",
    "\n",
    "# Líneas de costas y paises, aunque en este ejemplo no se ven\n",
    "map.drawcoastlines()\n",
    "map.drawcountries()\n",
    "\n",
    "map.fillcontinents(color = '#cc9966')\n",
    "map.drawmapboundary()\n",
    "\n",
    "# Coordenadas para dibujar en el map\n",
    "lats = [28.5068, 28.2617, 28.3310]\n",
    "lons = [-16.2531, -16.5526, -16.8353]\n",
    "\n",
    "x,y = map(lons, lats)\n",
    "map.plot(x, y, '*r', markersize=6)\n",
    "\n",
    "plt.show()"
   ]
  },
  {
   "cell_type": "code",
   "execution_count": null,
   "metadata": {},
   "outputs": [],
   "source": []
  },
  {
   "cell_type": "code",
   "execution_count": null,
   "metadata": {},
   "outputs": [],
   "source": [
    "list(df_shark.href[df_shark.Fatal==\"Y\"])"
   ]
  },
  {
   "cell_type": "code",
   "execution_count": null,
   "metadata": {},
   "outputs": [],
   "source": []
  },
  {
   "cell_type": "code",
   "execution_count": null,
   "metadata": {},
   "outputs": [],
   "source": [
    "\n"
   ]
  },
  {
   "cell_type": "code",
   "execution_count": null,
   "metadata": {},
   "outputs": [],
   "source": []
  },
  {
   "cell_type": "code",
   "execution_count": null,
   "metadata": {},
   "outputs": [],
   "source": []
  },
  {
   "cell_type": "code",
   "execution_count": null,
   "metadata": {},
   "outputs": [],
   "source": []
  },
  {
   "cell_type": "code",
   "execution_count": null,
   "metadata": {},
   "outputs": [],
   "source": []
  }
 ],
 "metadata": {
  "kernelspec": {
   "display_name": "Python 3",
   "language": "python",
   "name": "python3"
  },
  "language_info": {
   "codemirror_mode": {
    "name": "ipython",
    "version": 3
   },
   "file_extension": ".py",
   "mimetype": "text/x-python",
   "name": "python",
   "nbconvert_exporter": "python",
   "pygments_lexer": "ipython3",
   "version": "3.7.4"
  }
 },
 "nbformat": 4,
 "nbformat_minor": 2
}
