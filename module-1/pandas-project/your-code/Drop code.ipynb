{
 "cells": [
  {
   "cell_type": "code",
   "execution_count": null,
   "metadata": {},
   "outputs": [],
   "source": [
    "#Se corrigen los valores:\n",
    "# 1. Nan,'N', 'lli', '.' --> \"U\"nkonw. Le doy valor para poder trabajar con la columna\n",
    "# 2. 'M ' se cambia por 'M'\n",
    "\n",
    "\n",
    "df_shark.loc[df_shark[\"Sex\"].isnull(),\"Sex\"]=\"U\"\n",
    "df_shark.loc[df_shark[\"Sex\"].isin(['N','lli',\".\"])]=\"U\"\n",
    "df_shark.loc[df_shark[\"Sex\"]==\"M \",\"Sex\"]=\"M\"\n",
    "df_shark[\"Sex\"].value_counts()"
   ]
  },
  {
   "cell_type": "code",
   "execution_count": null,
   "metadata": {},
   "outputs": [],
   "source": [
    "df_shark[\"Sex\"].value_counts()"
   ]
  },
  {
   "cell_type": "code",
   "execution_count": null,
   "metadata": {},
   "outputs": [],
   "source": [
    "key_word=df_shark.Name.str.contains('boat|occupant', na=False)\n",
    "u_sex=df_shark.Sex==\"U\"\n",
    "\n",
    "\n",
    "\n",
    "#df_shark.Sex[key_word & u_sex]=\"B\"\n",
    "df_shark.Sex[key_word & u_sex]\n",
    "\n",
    "df_shark.Type[u_sex].value_counts()"
   ]
  },
  {
   "cell_type": "code",
   "execution_count": null,
   "metadata": {},
   "outputs": [],
   "source": [
    "df_shark.sex[df_shark[\"Type\"]isin(\"Boat\")]"
   ]
  },
  {
   "cell_type": "code",
   "execution_count": null,
   "metadata": {},
   "outputs": [],
   "source": [
    "d=list(df_shark[\"href formula\"].value_counts().index)\n",
    "d"
   ]
  },
  {
   "cell_type": "code",
   "execution_count": null,
   "metadata": {},
   "outputs": [],
   "source": [
    "d=list(df_shark.Name[df_shark.Sex==\"U\"].value_counts().index)\n",
    "print(d)"
   ]
  },
  {
   "cell_type": "code",
   "execution_count": null,
   "metadata": {},
   "outputs": [],
   "source": []
  },
  {
   "cell_type": "code",
   "execution_count": null,
   "metadata": {},
   "outputs": [],
   "source": []
  },
  {
   "cell_type": "code",
   "execution_count": null,
   "metadata": {},
   "outputs": [],
   "source": []
  },
  {
   "cell_type": "code",
   "execution_count": null,
   "metadata": {},
   "outputs": [],
   "source": []
  }
 ],
 "metadata": {
  "kernelspec": {
   "display_name": "Python 3",
   "language": "python",
   "name": "python3"
  },
  "language_info": {
   "codemirror_mode": {
    "name": "ipython",
    "version": 3
   },
   "file_extension": ".py",
   "mimetype": "text/x-python",
   "name": "python",
   "nbconvert_exporter": "python",
   "pygments_lexer": "ipython3",
   "version": "3.7.4"
  }
 },
 "nbformat": 4,
 "nbformat_minor": 2
}
