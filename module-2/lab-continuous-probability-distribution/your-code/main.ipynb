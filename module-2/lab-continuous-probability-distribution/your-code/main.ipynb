{
 "cells": [
  {
   "cell_type": "markdown",
   "metadata": {},
   "source": [
    "# Before your start:\n",
    "\n",
    "    Read the README.md file\n",
    "    Comment as much as you can and use the resources (README.md file)\n",
    "    Happy learning!"
   ]
  },
  {
   "cell_type": "markdown",
   "metadata": {},
   "source": [
    "In this exercise, we  will generate random numbers from the continuous disributions we learned in the lesson. There are two ways to generate random numbers:\n",
    "\n",
    "1. Using the numpy library \n",
    "1. using the Scipy library \n",
    "\n",
    "Use either or both of the lbraries in this exercise."
   ]
  },
  {
   "cell_type": "markdown",
   "metadata": {},
   "source": [
    "## Uniform Distribution\n",
    "\n",
    "To generate uniform random numbers between any two given values using scipy, we can either use the following code or the code that we have\n",
    "discussed in class:"
   ]
  },
  {
   "cell_type": "code",
   "execution_count": 13,
   "metadata": {},
   "outputs": [
    {
     "name": "stdout",
     "output_type": "stream",
     "text": [
      "[2.22038174 2.91744743 2.82391688 2.49955718 2.07853908 2.6126206\n",
      " 2.93733991 2.62799972 2.7249965  2.01850054]\n"
     ]
    }
   ],
   "source": [
    "from scipy.stats import uniform\n",
    "x = uniform.rvs(size=10)\n",
    "a = 2\n",
    "b = 3\n",
    "randoms  = a + (b-a)*x\n",
    "print(randoms)"
   ]
  },
  {
   "cell_type": "markdown",
   "metadata": {},
   "source": [
    "**Your task:**\n",
    "\n",
    "1. Based on the code above, write a function that generates uniformly distributed random numbers. There are several requirements for your function:\n",
    "    * It should accept 3 parameters: \n",
    "        * `bottom` - the lower boundary of the generated numbers\n",
    "        * `ceiling` - the upper boundary of the generated numbers\n",
    "        * `count` - how many numbers to generate\n",
    "    * It should return an array of uniformly distributed random numbers\n",
    "\n",
    "1. Call your function with 2 sets of params below:\n",
    "    * bottom=10, ceiling=15, count=100\n",
    "    * bottom=10, ceiling=60, count=1,000\n",
    "\n",
    "1. Plot the uniform distributions generated above using histograms, where x axis is the value and y axis is the count. Let the histogram's number of bins be 10.\n",
    "\n",
    "Your output should look like below:\n",
    "\n",
    "![uniform distribution](ud.png)"
   ]
  },
  {
   "cell_type": "code",
   "execution_count": 22,
   "metadata": {},
   "outputs": [
    {
     "data": {
      "text/plain": [
       "(array([101., 100., 117., 104.,  84.,  88.,  96.,  84., 120., 106.]),\n",
       " array([10.02052286, 15.01814383, 20.01576481, 25.01338579, 30.01100676,\n",
       "        35.00862774, 40.00624871, 45.00386969, 50.00149067, 54.99911164,\n",
       "        59.99673262]),\n",
       " <a list of 10 Patch objects>)"
      ]
     },
     "execution_count": 22,
     "metadata": {},
     "output_type": "execute_result"
    },
    {
     "data": {
      "image/png": "[encoded data removed]",
      "text/plain": [
       "<Figure size 432x288 with 2 Axes>"
      ]
     },
     "metadata": {
      "needs_background": "light"
     },
     "output_type": "display_data"
    }
   ],
   "source": [
    "# your code here\n",
    "import matplotlib.pyplot as plt\n",
    "from scipy.stats import uniform\n",
    "\n",
    "def uniformGeneretor(bottom, ceiling, count):\n",
    "    x = uniform.rvs(size=count)\n",
    "    return bottom + (ceiling-bottom)*x\n",
    "\n",
    "uniform1=uniformGeneretor(10,15,100)\n",
    "uniform2=uniformGeneretor(10,60,1000)\n",
    "\n",
    "plt.subplot(1,2,1)\n",
    "plt.hist(uniform1)\n",
    "\n",
    "plt.subplot(1,2,2)\n",
    "plt.hist(uniform2)"
   ]
  },
  {
   "cell_type": "markdown",
   "metadata": {},
   "source": [
    "How are the two distributions different?"
   ]
  },
  {
   "cell_type": "markdown",
   "metadata": {},
   "source": [
    "# your answer below\n",
    "### Pese a ser dos distribuciones normales, los valores que las componen son aleatorios."
   ]
  },
  {
   "cell_type": "markdown",
   "metadata": {},
   "source": [
    "## Normal Distribution\n",
    "\n",
    "1. In the same way in the Uniform Distribution challenge, write a function that generates normally distributed random numbers.\n",
    "1. Generate 1,000 normally distributed numbers with the average of 10 and standard deviation of 1\n",
    "1. Generate 1,000 normally distributed numbers with the average of 10 and standard deviation of 50\n",
    "2. Plot the distributions of the data generated.\n",
    "\n",
    "Expected output:\n",
    "\n",
    "![normal distribution](nd.png)"
   ]
  },
  {
   "cell_type": "code",
   "execution_count": 29,
   "metadata": {},
   "outputs": [
    {
     "name": "stdout",
     "output_type": "stream",
     "text": [
      "1000\n"
     ]
    },
    {
     "data": {
      "text/plain": [
       "(array([  1.,  12.,  50., 117., 239., 261., 199.,  77.,  35.,   9.]),\n",
       " array([-166.57286236, -133.48377648, -100.3946906 ,  -67.30560472,\n",
       "         -34.21651884,   -1.12743296,   31.96165292,   65.0507388 ,\n",
       "          98.13982468,  131.22891056,  164.31799644]),\n",
       " <a list of 10 Patch objects>)"
      ]
     },
     "execution_count": 29,
     "metadata": {},
     "output_type": "execute_result"
    },
    {
     "data": {
      "image/png": "[encoded data removed]",
      "text/plain": [
       "<Figure size 432x288 with 2 Axes>"
      ]
     },
     "metadata": {
      "needs_background": "light"
     },
     "output_type": "display_data"
    }
   ],
   "source": [
    "# your code here\n",
    "from scipy.stats import norm\n",
    "def normalGeneretor(mean, sigma, count):\n",
    "    x = norm.rvs(scale=sigma, size=count)\n",
    "    return x+mean\n",
    "\n",
    "\n",
    "\n",
    "norm1=normalGeneretor(10,1,1000)\n",
    "norm2=normalGeneretor(10,50,1000)\n",
    "plt.subplot(1,2,1)\n",
    "plt.hist(norm1)\n",
    "\n",
    "plt.subplot(1,2,2)\n",
    "plt.hist(norm2)\n"
   ]
  },
  {
   "cell_type": "markdown",
   "metadata": {},
   "source": [
    "How are the two distributions different?"
   ]
  },
  {
   "cell_type": "code",
   "execution_count": null,
   "metadata": {},
   "outputs": [],
   "source": [
    "# your answer below\n",
    "### La segunda grafica llega a balores mas alejados de la media porque su desviación estandar es mayor"
   ]
  },
  {
   "cell_type": "markdown",
   "metadata": {},
   "source": [
    "## Normal Distribution of Real Data\n",
    "\n",
    "In this challenge we are going to take a look the real data. We will use vehicles.csv file for this exercise"
   ]
  },
  {
   "cell_type": "markdown",
   "metadata": {},
   "source": [
    "First import vehicles.csv.\n",
    "Then plot the histograms for the following variables:\n",
    "\n",
    "1. Fuel Barrels/Year"
   ]
  },
  {
   "cell_type": "code",
   "execution_count": 35,
   "metadata": {},
   "outputs": [
    {
     "data": {
      "text/plain": [
       "(array([8.1000e+01, 3.7400e+02, 6.7650e+03, 1.7039e+04, 8.9660e+03,\n",
       "        2.0960e+03, 5.6900e+02, 3.6000e+01, 2.1000e+01, 5.0000e+00]),\n",
       " array([ 0.06      ,  4.76271429,  9.46542857, 14.16814286, 18.87085714,\n",
       "        23.57357143, 28.27628571, 32.979     , 37.68171429, 42.38442857,\n",
       "        47.08714286]),\n",
       " <a list of 10 Patch objects>)"
      ]
     },
     "execution_count": 35,
     "metadata": {},
     "output_type": "execute_result"
    },
    {
     "data": {
      "image/png": "[encoded data removed]",
      "text/plain": [
       "<Figure size 432x288 with 1 Axes>"
      ]
     },
     "metadata": {
      "needs_background": "light"
     },
     "output_type": "display_data"
    }
   ],
   "source": [
    "# your code here\n",
    "import pandas as pd\n",
    "df=pd.read_csv(\"vehicles.csv\")\n",
    "plt.hist(df[\"Fuel Barrels/Year\"])"
   ]
  },
  {
   "cell_type": "markdown",
   "metadata": {},
   "source": [
    "2. CO2 Emission Grams/Mile "
   ]
  },
  {
   "cell_type": "code",
   "execution_count": 39,
   "metadata": {},
   "outputs": [
    {
     "data": {
      "text/plain": [
       "(array([3.4000e+01, 8.3200e+02, 1.0205e+04, 1.5411e+04, 6.8250e+03,\n",
       "        2.0100e+03, 5.7300e+02, 3.6000e+01, 2.1000e+01, 5.0000e+00]),\n",
       " array([  37.        ,  160.25714286,  283.51428571,  406.77142857,\n",
       "         530.02857143,  653.28571429,  776.54285714,  899.8       ,\n",
       "        1023.05714286, 1146.31428571, 1269.57142857]),\n",
       " <a list of 10 Patch objects>)"
      ]
     },
     "execution_count": 39,
     "metadata": {},
     "output_type": "execute_result"
    },
    {
     "data": {
      "image/png": "[encoded data removed]",
      "text/plain": [
       "<Figure size 432x288 with 1 Axes>"
      ]
     },
     "metadata": {
      "needs_background": "light"
     },
     "output_type": "display_data"
    }
   ],
   "source": [
    "# your code here\n",
    "plt.hist(df[\"CO2 Emission Grams/Mile\"])"
   ]
  },
  {
   "cell_type": "markdown",
   "metadata": {},
   "source": [
    "3. Combined MPG"
   ]
  },
  {
   "cell_type": "code",
   "execution_count": 37,
   "metadata": {},
   "outputs": [
    {
     "data": {
      "text/plain": [
       "(array([6.3800e+02, 8.4990e+03, 1.5512e+04, 7.9320e+03, 2.4160e+03,\n",
       "        6.3600e+02, 2.1000e+02, 6.5000e+01, 3.3000e+01, 1.1000e+01]),\n",
       " array([ 7. , 11.9, 16.8, 21.7, 26.6, 31.5, 36.4, 41.3, 46.2, 51.1, 56. ]),\n",
       " <a list of 10 Patch objects>)"
      ]
     },
     "execution_count": 37,
     "metadata": {},
     "output_type": "execute_result"
    },
    {
     "data": {
      "image/png": "[encoded data removed]",
      "text/plain": [
       "<Figure size 432x288 with 1 Axes>"
      ]
     },
     "metadata": {
      "needs_background": "light"
     },
     "output_type": "display_data"
    }
   ],
   "source": [
    "# your code here\n",
    "plt.hist(df[\"Combined MPG\"])"
   ]
  },
  {
   "cell_type": "markdown",
   "metadata": {},
   "source": [
    "Which one(s) of the variables are nearly normally distributed? How do you know?"
   ]
  },
  {
   "cell_type": "markdown",
   "metadata": {},
   "source": [
    "# your answer here\n",
    "\n",
    "### Por la forma de las gráficas, todas tiene una distribución que se podría asemejar a una distribución normal"
   ]
  },
  {
   "cell_type": "markdown",
   "metadata": {},
   "source": [
    "## Exponential Distribution"
   ]
  },
  {
   "cell_type": "markdown",
   "metadata": {},
   "source": [
    "1. Using `numpy.random.exponential`, create a function that returns a list of numbers exponentially distributed with the mean of 10. \n",
    "\n",
    "1. Use the function to generate two number sequences with the size of 10 and 100.\n",
    "\n",
    "1. Plot the distributions as histograms with the nubmer of bins as 100.\n",
    "\n",
    "Your output should look like below:\n",
    "\n",
    "![exponential distribution](ed.png)"
   ]
  },
  {
   "cell_type": "code",
   "execution_count": 56,
   "metadata": {},
   "outputs": [
    {
     "data": {
      "text/plain": [
       "(array([1.2948e+04, 1.1504e+04, 1.0085e+04, 8.5700e+03, 7.5630e+03,\n",
       "        6.4940e+03, 5.6530e+03, 4.9050e+03, 4.2570e+03, 3.6250e+03,\n",
       "        3.2480e+03, 2.7470e+03, 2.4750e+03, 2.0380e+03, 1.7970e+03,\n",
       "        1.5440e+03, 1.4050e+03, 1.1800e+03, 9.7900e+02, 9.4800e+02,\n",
       "        7.4500e+02, 7.3900e+02, 5.8700e+02, 5.1500e+02, 4.6100e+02,\n",
       "        3.8700e+02, 3.2400e+02, 2.6700e+02, 2.8300e+02, 2.3700e+02,\n",
       "        2.1200e+02, 1.4100e+02, 1.4800e+02, 1.0400e+02, 1.1500e+02,\n",
       "        1.1100e+02, 8.0000e+01, 6.9000e+01, 8.0000e+01, 5.1000e+01,\n",
       "        6.5000e+01, 3.9000e+01, 3.7000e+01, 3.0000e+01, 1.9000e+01,\n",
       "        3.0000e+01, 2.5000e+01, 1.6000e+01, 2.0000e+01, 1.4000e+01,\n",
       "        1.5000e+01, 1.5000e+01, 6.0000e+00, 4.0000e+00, 7.0000e+00,\n",
       "        6.0000e+00, 5.0000e+00, 2.0000e+00, 3.0000e+00, 2.0000e+00,\n",
       "        6.0000e+00, 0.0000e+00, 2.0000e+00, 2.0000e+00, 1.0000e+00,\n",
       "        0.0000e+00, 0.0000e+00, 1.0000e+00, 2.0000e+00, 0.0000e+00,\n",
       "        0.0000e+00, 1.0000e+00, 0.0000e+00, 1.0000e+00, 0.0000e+00,\n",
       "        0.0000e+00, 0.0000e+00, 0.0000e+00, 1.0000e+00, 0.0000e+00,\n",
       "        0.0000e+00, 0.0000e+00, 0.0000e+00, 0.0000e+00, 0.0000e+00,\n",
       "        0.0000e+00, 0.0000e+00, 0.0000e+00, 0.0000e+00, 0.0000e+00,\n",
       "        0.0000e+00, 0.0000e+00, 0.0000e+00, 0.0000e+00, 0.0000e+00,\n",
       "        0.0000e+00, 1.0000e+00, 0.0000e+00, 0.0000e+00, 1.0000e+00]),\n",
       " array([1.58838748e-05, 1.41064286e+00, 2.82126983e+00, 4.23189681e+00,\n",
       "        5.64252379e+00, 7.05315076e+00, 8.46377774e+00, 9.87440471e+00,\n",
       "        1.12850317e+01, 1.26956587e+01, 1.41062856e+01, 1.55169126e+01,\n",
       "        1.69275396e+01, 1.83381666e+01, 1.97487935e+01, 2.11594205e+01,\n",
       "        2.25700475e+01, 2.39806745e+01, 2.53913014e+01, 2.68019284e+01,\n",
       "        2.82125554e+01, 2.96231824e+01, 3.10338093e+01, 3.24444363e+01,\n",
       "        3.38550633e+01, 3.52656903e+01, 3.66763172e+01, 3.80869442e+01,\n",
       "        3.94975712e+01, 4.09081982e+01, 4.23188252e+01, 4.37294521e+01,\n",
       "        4.51400791e+01, 4.65507061e+01, 4.79613331e+01, 4.93719600e+01,\n",
       "        5.07825870e+01, 5.21932140e+01, 5.36038410e+01, 5.50144679e+01,\n",
       "        5.64250949e+01, 5.78357219e+01, 5.92463489e+01, 6.06569758e+01,\n",
       "        6.20676028e+01, 6.34782298e+01, 6.48888568e+01, 6.62994837e+01,\n",
       "        6.77101107e+01, 6.91207377e+01, 7.05313647e+01, 7.19419916e+01,\n",
       "        7.33526186e+01, 7.47632456e+01, 7.61738726e+01, 7.75844995e+01,\n",
       "        7.89951265e+01, 8.04057535e+01, 8.18163805e+01, 8.32270074e+01,\n",
       "        8.46376344e+01, 8.60482614e+01, 8.74588884e+01, 8.88695153e+01,\n",
       "        9.02801423e+01, 9.16907693e+01, 9.31013963e+01, 9.45120232e+01,\n",
       "        9.59226502e+01, 9.73332772e+01, 9.87439042e+01, 1.00154531e+02,\n",
       "        1.01565158e+02, 1.02975785e+02, 1.04386412e+02, 1.05797039e+02,\n",
       "        1.07207666e+02, 1.08618293e+02, 1.10028920e+02, 1.11439547e+02,\n",
       "        1.12850174e+02, 1.14260801e+02, 1.15671428e+02, 1.17082055e+02,\n",
       "        1.18492682e+02, 1.19903309e+02, 1.21313936e+02, 1.22724563e+02,\n",
       "        1.24135190e+02, 1.25545817e+02, 1.26956444e+02, 1.28367071e+02,\n",
       "        1.29777698e+02, 1.31188325e+02, 1.32598952e+02, 1.34009579e+02,\n",
       "        1.35420206e+02, 1.36830833e+02, 1.38241459e+02, 1.39652086e+02,\n",
       "        1.41062713e+02]),\n",
       " <a list of 100 Patch objects>)"
      ]
     },
     "execution_count": 56,
     "metadata": {},
     "output_type": "execute_result"
    },
    {
     "data": {
      "image/png": "[encoded data removed]",
      "text/plain": [
       "<Figure size 432x288 with 2 Axes>"
      ]
     },
     "metadata": {
      "needs_background": "light"
     },
     "output_type": "display_data"
    }
   ],
   "source": [
    "# your code here\n",
    "import numpy as np\n",
    "\n",
    "def exponential(mean, count):\n",
    "    return np.random.exponential(mean,count)\n",
    "\n",
    "\n",
    "exp1=exponential(10,1000)\n",
    "exp2=exponential(10,100000)\n",
    "\n",
    "\n",
    "plt.subplot(1,2,1)\n",
    "plt.hist(exp1)\n",
    "\n",
    "plt.subplot(1,2,2)\n",
    "plt.hist(exp2,bins=100)\n"
   ]
  },
  {
   "cell_type": "markdown",
   "metadata": {},
   "source": [
    "How are the two distributions different?"
   ]
  },
  {
   "cell_type": "markdown",
   "metadata": {},
   "source": [
    "# your answer here\n",
    "### He subido los valors a 1000 y 100000 para que se pueda ver algo decente.\n",
    "\n",
    "### cuantos mas valores se producen, mas probable es que alguno tenga un valor mas alejado de la media."
   ]
  },
  {
   "cell_type": "markdown",
   "metadata": {},
   "source": [
    "## Exponential Distribution of Real Data\n",
    "\n",
    "Suppose that the amount of time one spends in a bank is exponentially distributed with mean as 10 minutes (i.e. λ = 1/10). What is the probability that a customer will spend less than fifteen minutes in the bank? \n",
    "\n",
    "Write a code in python to solve this problem"
   ]
  },
  {
   "cell_type": "code",
   "execution_count": 65,
   "metadata": {},
   "outputs": [
    {
     "name": "stdout",
     "output_type": "stream",
     "text": [
      "La probabilidad de tardar menos de 15 minutos es: 0.7768698398515702\n"
     ]
    }
   ],
   "source": [
    "# your answer here\n",
    "# Hint: This is same as saying P(x<15)\n",
    "from scipy.stats import expon\n",
    "\n",
    "print('La probabilidad de tardar menos de 15 minutos es:',expon.cdf(15, scale=10))\n"
   ]
  },
  {
   "cell_type": "markdown",
   "metadata": {},
   "source": [
    "What is the probability that the customer will spend more than 15 minutes"
   ]
  },
  {
   "cell_type": "code",
   "execution_count": null,
   "metadata": {},
   "outputs": [],
   "source": [
    "# your answer here"
   ]
  },
  {
   "cell_type": "code",
   "execution_count": 67,
   "metadata": {},
   "outputs": [
    {
     "name": "stdout",
     "output_type": "stream",
     "text": [
      "La probabilidad de tardar mas de 15 minutos es: 0.2231301601484298\n"
     ]
    }
   ],
   "source": [
    "print('La probabilidad de tardar mas de 15 minutos es:',1-expon.cdf(15,scale=10))"
   ]
  }
 ],
 "metadata": {
  "kernelspec": {
   "display_name": "Python 3",
   "language": "python",
   "name": "python3"
  },
  "language_info": {
   "codemirror_mode": {
    "name": "ipython",
    "version": 3
   },
   "file_extension": ".py",
   "mimetype": "text/x-python",
   "name": "python",
   "nbconvert_exporter": "python",
   "pygments_lexer": "ipython3",
   "version": "3.7.4"
  }
 },
 "nbformat": 4,
 "nbformat_minor": 2
}
